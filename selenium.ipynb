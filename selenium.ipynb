{
 "cells": [
  {
   "cell_type": "code",
   "execution_count": 9,
   "metadata": {},
   "outputs": [
    {
     "ename": "AttributeError",
     "evalue": "'WebDriver' object has no attribute 'find_element_by_xpath'",
     "output_type": "error",
     "traceback": [
      "\u001b[0;31m---------------------------------------------------------------------------\u001b[0m",
      "\u001b[0;31mAttributeError\u001b[0m                            Traceback (most recent call last)",
      "\u001b[0;32m<ipython-input-9-50b382679e6f>\u001b[0m in \u001b[0;36m<module>\u001b[0;34m\u001b[0m\n\u001b[1;32m      8\u001b[0m \u001b[0;34m\u001b[0m\u001b[0m\n\u001b[1;32m      9\u001b[0m \u001b[0;31m# Masukkan kredensial login Anda\u001b[0m\u001b[0;34m\u001b[0m\u001b[0;34m\u001b[0m\u001b[0;34m\u001b[0m\u001b[0m\n\u001b[0;32m---> 10\u001b[0;31m \u001b[0musername\u001b[0m \u001b[0;34m=\u001b[0m \u001b[0mdriver\u001b[0m\u001b[0;34m.\u001b[0m\u001b[0mfind_element_by_xpath\u001b[0m\u001b[0;34m(\u001b[0m\u001b[0;34m'//input[@name=\"session[username_or_email]\"]'\u001b[0m\u001b[0;34m)\u001b[0m\u001b[0;34m\u001b[0m\u001b[0;34m\u001b[0m\u001b[0m\n\u001b[0m\u001b[1;32m     11\u001b[0m \u001b[0musername\u001b[0m\u001b[0;34m.\u001b[0m\u001b[0msend_keys\u001b[0m\u001b[0;34m(\u001b[0m\u001b[0;34m'fishqq87'\u001b[0m\u001b[0;34m)\u001b[0m  \u001b[0;31m# Ganti dengan nama pengguna Anda\u001b[0m\u001b[0;34m\u001b[0m\u001b[0;34m\u001b[0m\u001b[0m\n\u001b[1;32m     12\u001b[0m \u001b[0musername\u001b[0m\u001b[0;34m.\u001b[0m\u001b[0msubmit\u001b[0m\u001b[0;34m(\u001b[0m\u001b[0;34m)\u001b[0m\u001b[0;34m\u001b[0m\u001b[0;34m\u001b[0m\u001b[0m\n",
      "\u001b[0;31mAttributeError\u001b[0m: 'WebDriver' object has no attribute 'find_element_by_xpath'"
     ]
    }
   ],
   "source": [
    "from selenium import webdriver\n",
    "\n",
    "# Inisialisasi browser\n",
    "driver = webdriver.Chrome()  # Ganti dengan driver browser yang sesuai, misalnya Firefox webdriver.Firefox()\n",
    "\n",
    "# Buka halaman Twitter\n",
    "driver.get('https://twitter.com')\n",
    "\n",
    "# Masukkan kredensial login Anda\n",
    "username = driver.find_element_by_name('text')\n",
    "username.send_keys('fishqq87')  # Ganti dengan nama pengguna Anda\n",
    "username.submit()\n",
    "\n",
    "password = driver.find_element_by_name('password')\n",
    "password.send_keys('Tegal24112000')  # Ganti dengan kata sandi Anda\n",
    "password.submit()\n",
    "\n",
    "# Tunggu sampai halaman Twitter selesai dimuat\n",
    "driver.implicitly_wait(10)  # Tunggu maksimal 10 detik\n",
    "\n",
    "# Ambil cookie dari browser\n",
    "cookies = driver.get_cookies()\n",
    "\n",
    "# Cari cookie yang berisi auth_token\n",
    "auth_token = None\n",
    "for cookie in cookies:\n",
    "    if cookie['name'] == 'auth_token':  # Ganti dengan nama cookie yang sesuai\n",
    "        auth_token = cookie['value']\n",
    "        break\n",
    "\n",
    "# Tutup browser\n",
    "driver.quit()\n",
    "\n",
    "# Gunakan auth_token sesuai kebutuhan Anda\n",
    "if auth_token:\n",
    "    print(f\"Auth Token: {auth_token}\")\n",
    "else:\n",
    "    print(\"Gagal mengambil Auth Token\")\n"
   ]
  },
  {
   "cell_type": "code",
   "execution_count": null,
   "metadata": {},
   "outputs": [],
   "source": []
  }
 ],
 "metadata": {
  "kernelspec": {
   "display_name": "Python 3",
   "language": "python",
   "name": "python3"
  },
  "language_info": {
   "codemirror_mode": {
    "name": "ipython",
    "version": 3
   },
   "file_extension": ".py",
   "mimetype": "text/x-python",
   "name": "python",
   "nbconvert_exporter": "python",
   "pygments_lexer": "ipython3",
   "version": "3.8.10"
  },
  "orig_nbformat": 4
 },
 "nbformat": 4,
 "nbformat_minor": 2
}
